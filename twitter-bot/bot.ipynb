{
 "cells": [
  {
   "cell_type": "markdown",
   "metadata": {
    "collapsed": true,
    "deletable": true,
    "editable": true
   },
   "source": [
    "<div>\n",
    "<center><h1>Twitter Response Bot</h1><br><img src=\"http://cdn.ultraswank.net/uploads/Monty_Python_and_the_Holy_Grail_2-1000x601.jpg\" width=600></div>"
   ]
  },
  {
   "cell_type": "code",
   "execution_count": null,
   "metadata": {
    "collapsed": true,
    "deletable": true,
    "editable": true
   },
   "outputs": [],
   "source": [
    "import os, re, time\n",
    "from markovbot import MarkovBot"
   ]
  },
  {
   "cell_type": "code",
   "execution_count": 36,
   "metadata": {
    "collapsed": false,
    "deletable": true,
    "editable": true,
    "scrolled": true
   },
   "outputs": [
    {
     "name": "stdout",
     "output_type": "stream",
     "text": [
      "bot says: The Holy Pin. Then shalt thou take out the Holy Pin.\n"
     ]
    }
   ],
   "source": [
    "bot = MarkovBot()\n",
    "# read input of text replies and build random conversational sentences\n",
    "bot.read('replies.txt')\n",
    "text = bot.generate_text(15, seedword=[''])\n",
    "print('bot says: '+text)"
   ]
  },
  {
   "cell_type": "code",
   "execution_count": 37,
   "metadata": {
    "collapsed": false,
    "deletable": true,
    "editable": true
   },
   "outputs": [],
   "source": [
    "# Twitter API stuff\n",
    "cons_key = 'fai4h6SN6gFM9nhQGu2A72mHY'\n",
    "cons_secret = 'GQLWRbIMeVcT6BT1uLP79oA2JmS7WUyZUgN7KoHZGPG4v7KOPi'\n",
    "access_token = '848222105535602688-doZSwW16KKC1PQd4YKenIuYUTe6n4nh'\n",
    "access_token_secret = 'MNI1HQDUIIJ01AKkjyyopSdz7QNlhVG3Ryox1Fpv3TPi2'"
   ]
  },
  {
   "cell_type": "code",
   "execution_count": null,
   "metadata": {
    "collapsed": false,
    "deletable": true,
    "editable": true
   },
   "outputs": [],
   "source": [
    "# Log in to Twitter\n",
    "bot.twitter_login(cons_key, cons_secret, access_token, access_token_secret)"
   ]
  },
  {
   "cell_type": "code",
   "execution_count": null,
   "metadata": {
    "collapsed": false,
    "deletable": true,
    "editable": true
   },
   "outputs": [],
   "source": [
    "keywords = ['hate', 'trump']\n",
    "prefix = None\n",
    "suffix = ''\n",
    "maxconvdepth = 2\n",
    "bot.twitter_autoreply_start(targetstring = '', keywords=keywords, prefix=prefix, suffix=suffix, maxconvdepth=maxconvdepth)\n",
    "bot.twitter_tweeting_start(days=0, hours=19, minutes=30, keywords=None, prefix=None, suffix='#BleepBloop')\n",
    "secsinweek = 60\n",
    "time.sleep(secsinweek)"
   ]
  },
  {
   "cell_type": "code",
   "execution_count": null,
   "metadata": {
    "collapsed": true,
    "deletable": true,
    "editable": true
   },
   "outputs": [],
   "source": []
  },
  {
   "cell_type": "code",
   "execution_count": null,
   "metadata": {
    "collapsed": true,
    "deletable": true,
    "editable": true
   },
   "outputs": [],
   "source": [
    "tweetbot.twitter_autoreply_stop()\n",
    "tweetbot.twitter_tweeting_stop()"
   ]
  },
  {
   "cell_type": "code",
   "execution_count": null,
   "metadata": {
    "collapsed": true,
    "deletable": true,
    "editable": true
   },
   "outputs": [],
   "source": []
  }
 ],
 "metadata": {
  "kernelspec": {
   "display_name": "Python 2",
   "language": "python",
   "name": "python2"
  },
  "language_info": {
   "codemirror_mode": {
    "name": "ipython",
    "version": 2
   },
   "file_extension": ".py",
   "mimetype": "text/x-python",
   "name": "python",
   "nbconvert_exporter": "python",
   "pygments_lexer": "ipython2",
   "version": "2.7.12+"
  }
 },
 "nbformat": 4,
 "nbformat_minor": 2
}
