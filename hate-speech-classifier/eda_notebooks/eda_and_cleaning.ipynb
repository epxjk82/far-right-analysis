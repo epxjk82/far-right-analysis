{
 "cells": [
  {
   "cell_type": "code",
   "execution_count": 1,
   "metadata": {
    "collapsed": true
   },
   "outputs": [],
   "source": [
    "import pandas as pd\n",
    "import matplotlib.pyplot as plt\n",
    "import numpy as np\n",
    "\n",
    "\n",
    "%matplotlib inline"
   ]
  },
  {
   "cell_type": "code",
   "execution_count": 2,
   "metadata": {
    "collapsed": true
   },
   "outputs": [],
   "source": [
    "tweet_df = pd.read_csv('../data/labeled-twitter-hate-speech.csv')"
   ]
  },
  {
   "cell_type": "markdown",
   "metadata": {},
   "source": [
    "## Checking Things Out"
   ]
  },
  {
   "cell_type": "code",
   "execution_count": 3,
   "metadata": {
    "collapsed": false
   },
   "outputs": [
    {
     "data": {
      "text/plain": [
       "Index([u'_unit_id', u'_golden', u'_unit_state', u'_trusted_judgments',\n",
       "       u'_last_judgment_at', u'does_this_tweet_contain_hate_speech',\n",
       "       u'does_this_tweet_contain_hate_speech:confidence', u'_created_at',\n",
       "       u'orig__golden', u'orig__last_judgment_at', u'orig__trusted_judgments',\n",
       "       u'orig__unit_id', u'orig__unit_state', u'_updated_at',\n",
       "       u'orig_does_this_tweet_contain_hate_speech',\n",
       "       u'does_this_tweet_contain_hate_speech_gold',\n",
       "       u'does_this_tweet_contain_hate_speech_gold_reason',\n",
       "       u'does_this_tweet_contain_hate_speechconfidence', u'tweet_id',\n",
       "       u'tweet_text'],\n",
       "      dtype='object')"
      ]
     },
     "execution_count": 3,
     "metadata": {},
     "output_type": "execute_result"
    }
   ],
   "source": [
    "tweet_df.columns"
   ]
  },
  {
   "cell_type": "code",
   "execution_count": 9,
   "metadata": {
    "collapsed": false
   },
   "outputs": [
    {
     "data": {
      "text/plain": [
       "array([True, nan], dtype=object)"
      ]
     },
     "execution_count": 9,
     "metadata": {},
     "output_type": "execute_result"
    }
   ],
   "source": [
    "tweet_df.orig__golden.unique()"
   ]
  },
  {
   "cell_type": "code",
   "execution_count": 5,
   "metadata": {
    "collapsed": false
   },
   "outputs": [
    {
     "data": {
      "text/plain": [
       "True    67\n",
       "Name: orig__golden, dtype: int64"
      ]
     },
     "execution_count": 5,
     "metadata": {},
     "output_type": "execute_result"
    }
   ],
   "source": [
    "tweet_df.orig__golden.value_counts()"
   ]
  },
  {
   "cell_type": "code",
   "execution_count": 7,
   "metadata": {
    "collapsed": false
   },
   "outputs": [
    {
     "data": {
      "text/plain": [
       "The tweet is not offensive                               7274\n",
       "The tweet uses offensive language but not hate speech    4836\n",
       "The tweet contains hate speech                           2399\n",
       "Name: does_this_tweet_contain_hate_speech, dtype: int64"
      ]
     },
     "execution_count": 7,
     "metadata": {},
     "output_type": "execute_result"
    }
   ],
   "source": [
    "tweet_df.does_this_tweet_contain_hate_speech.value_counts()"
   ]
  },
  {
   "cell_type": "code",
   "execution_count": 8,
   "metadata": {
    "collapsed": false
   },
   "outputs": [
    {
     "name": "stdout",
     "output_type": "stream",
     "text": [
      "<class 'pandas.core.frame.DataFrame'>\n",
      "RangeIndex: 14509 entries, 0 to 14508\n",
      "Data columns (total 20 columns):\n",
      "_unit_id                                           14509 non-null int64\n",
      "_golden                                            14509 non-null bool\n",
      "_unit_state                                        14509 non-null object\n",
      "_trusted_judgments                                 14509 non-null int64\n",
      "_last_judgment_at                                  14442 non-null object\n",
      "does_this_tweet_contain_hate_speech                14509 non-null object\n",
      "does_this_tweet_contain_hate_speech:confidence     14509 non-null float64\n",
      "_created_at                                        0 non-null float64\n",
      "orig__golden                                       67 non-null object\n",
      "orig__last_judgment_at                             0 non-null float64\n",
      "orig__trusted_judgments                            67 non-null float64\n",
      "orig__unit_id                                      67 non-null float64\n",
      "orig__unit_state                                   67 non-null object\n",
      "_updated_at                                        0 non-null float64\n",
      "orig_does_this_tweet_contain_hate_speech           67 non-null object\n",
      "does_this_tweet_contain_hate_speech_gold           67 non-null object\n",
      "does_this_tweet_contain_hate_speech_gold_reason    0 non-null float64\n",
      "does_this_tweet_contain_hate_speechconfidence      67 non-null float64\n",
      "tweet_id                                           14509 non-null float64\n",
      "tweet_text                                         14509 non-null object\n",
      "dtypes: bool(1), float64(9), int64(2), object(8)\n",
      "memory usage: 2.1+ MB\n"
     ]
    }
   ],
   "source": [
    "tweet_df.info()"
   ]
  },
  {
   "cell_type": "code",
   "execution_count": 10,
   "metadata": {
    "collapsed": false
   },
   "outputs": [
    {
     "data": {
      "text/plain": [
       "1.0    67\n",
       "Name: does_this_tweet_contain_hate_speechconfidence, dtype: int64"
      ]
     },
     "execution_count": 10,
     "metadata": {},
     "output_type": "execute_result"
    }
   ],
   "source": [
    "tweet_df.does_this_tweet_contain_hate_speechconfidence.value_counts()"
   ]
  },
  {
   "cell_type": "code",
   "execution_count": 13,
   "metadata": {
    "collapsed": true
   },
   "outputs": [],
   "source": [
    "golden_df = tweet_df[tweet_df['orig__golden'] == True]"
   ]
  },
  {
   "cell_type": "code",
   "execution_count": 14,
   "metadata": {
    "collapsed": false
   },
   "outputs": [
    {
     "data": {
      "text/plain": [
       "The tweet uses offensive language but not hate speech    29\n",
       "The tweet is not offensive                               21\n",
       "The tweet contains hate speech                           17\n",
       "Name: does_this_tweet_contain_hate_speech, dtype: int64"
      ]
     },
     "execution_count": 14,
     "metadata": {},
     "output_type": "execute_result"
    }
   ],
   "source": [
    "golden_df.does_this_tweet_contain_hate_speech.value_counts()"
   ]
  },
  {
   "cell_type": "code",
   "execution_count": 15,
   "metadata": {
    "collapsed": false
   },
   "outputs": [
    {
     "data": {
      "text/plain": [
       "91    8\n",
       "93    7\n",
       "90    7\n",
       "88    7\n",
       "94    6\n",
       "92    6\n",
       "95    5\n",
       "89    5\n",
       "87    5\n",
       "98    3\n",
       "86    3\n",
       "96    2\n",
       "97    1\n",
       "85    1\n",
       "84    1\n",
       "Name: _trusted_judgments, dtype: int64"
      ]
     },
     "execution_count": 15,
     "metadata": {},
     "output_type": "execute_result"
    }
   ],
   "source": [
    "golden_df._trusted_judgments.value_counts()"
   ]
  },
  {
   "cell_type": "markdown",
   "metadata": {},
   "source": [
    "## Golden Tweets\n",
    "\n",
    "Determined that `golden` tweets represent tweets reviewed by a large number of users, so seems worthwhile to make use of the column as a boolean value. Filling the null values in that column with `False` as a result."
   ]
  },
  {
   "cell_type": "code",
   "execution_count": 17,
   "metadata": {
    "collapsed": true
   },
   "outputs": [],
   "source": [
    "tweet_df.orig__golden.fillna(False, inplace=True)"
   ]
  },
  {
   "cell_type": "code",
   "execution_count": 18,
   "metadata": {
    "collapsed": false
   },
   "outputs": [
    {
     "data": {
      "text/plain": [
       "False    14442\n",
       "True        67\n",
       "Name: orig__golden, dtype: int64"
      ]
     },
     "execution_count": 18,
     "metadata": {},
     "output_type": "execute_result"
    }
   ],
   "source": [
    "tweet_df.orig__golden.value_counts()"
   ]
  },
  {
   "cell_type": "markdown",
   "metadata": {},
   "source": [
    "## NLP on Tweet Text\n",
    "\n",
    "Separating out the tweet text and labels to focus on the NLP techniques first before returning to other values provided with data."
   ]
  },
  {
   "cell_type": "code",
   "execution_count": 21,
   "metadata": {
    "collapsed": false
   },
   "outputs": [
    {
     "data": {
      "text/plain": [
       "Index([u'_unit_id', u'_golden', u'_unit_state', u'_trusted_judgments',\n",
       "       u'_last_judgment_at', u'does_this_tweet_contain_hate_speech',\n",
       "       u'does_this_tweet_contain_hate_speech:confidence', u'_created_at',\n",
       "       u'orig__golden', u'orig__last_judgment_at', u'orig__trusted_judgments',\n",
       "       u'orig__unit_id', u'orig__unit_state', u'_updated_at',\n",
       "       u'orig_does_this_tweet_contain_hate_speech',\n",
       "       u'does_this_tweet_contain_hate_speech_gold',\n",
       "       u'does_this_tweet_contain_hate_speech_gold_reason',\n",
       "       u'does_this_tweet_contain_hate_speechconfidence', u'tweet_id',\n",
       "       u'tweet_text'],\n",
       "      dtype='object')"
      ]
     },
     "execution_count": 21,
     "metadata": {},
     "output_type": "execute_result"
    }
   ],
   "source": [
    "tweet_df.columns"
   ]
  },
  {
   "cell_type": "code",
   "execution_count": 27,
   "metadata": {
    "collapsed": true
   },
   "outputs": [],
   "source": [
    "tweet_df.rename?"
   ]
  },
  {
   "cell_type": "code",
   "execution_count": 28,
   "metadata": {
    "collapsed": true
   },
   "outputs": [],
   "source": [
    "tweet_df.rename(columns={'does_this_tweet_contain_hate_speech':'labels'}, inplace=True)"
   ]
  },
  {
   "cell_type": "code",
   "execution_count": 29,
   "metadata": {
    "collapsed": false
   },
   "outputs": [
    {
     "data": {
      "text/plain": [
       "Index([u'_unit_id', u'_golden', u'_unit_state', u'_trusted_judgments',\n",
       "       u'_last_judgment_at', u'labels',\n",
       "       u'does_this_tweet_contain_hate_speech:confidence', u'_created_at',\n",
       "       u'orig__golden', u'orig__last_judgment_at', u'orig__trusted_judgments',\n",
       "       u'orig__unit_id', u'orig__unit_state', u'_updated_at',\n",
       "       u'orig_does_this_tweet_contain_hate_speech',\n",
       "       u'does_this_tweet_contain_hate_speech_gold',\n",
       "       u'does_this_tweet_contain_hate_speech_gold_reason',\n",
       "       u'does_this_tweet_contain_hate_speechconfidence', u'tweet_id',\n",
       "       u'tweet_text'],\n",
       "      dtype='object')"
      ]
     },
     "execution_count": 29,
     "metadata": {},
     "output_type": "execute_result"
    }
   ],
   "source": [
    "tweet_df.columns"
   ]
  },
  {
   "cell_type": "code",
   "execution_count": 30,
   "metadata": {
    "collapsed": false
   },
   "outputs": [],
   "source": [
    "text_only_cols = ['labels', 'tweet_text']"
   ]
  },
  {
   "cell_type": "code",
   "execution_count": 44,
   "metadata": {
    "collapsed": false
   },
   "outputs": [],
   "source": [
    "text_only_df = tweet_df.copy()[text_only_cols]"
   ]
  },
  {
   "cell_type": "code",
   "execution_count": 45,
   "metadata": {
    "collapsed": false
   },
   "outputs": [
    {
     "data": {
      "text/plain": [
       "The tweet is not offensive                               7274\n",
       "The tweet uses offensive language but not hate speech    4836\n",
       "The tweet contains hate speech                           2399\n",
       "Name: labels, dtype: int64"
      ]
     },
     "execution_count": 45,
     "metadata": {},
     "output_type": "execute_result"
    }
   ],
   "source": [
    "text_only_df['labels'].value_counts()"
   ]
  },
  {
   "cell_type": "code",
   "execution_count": 46,
   "metadata": {
    "collapsed": false
   },
   "outputs": [],
   "source": [
    "def convert_labels(row):\n",
    "    if row == 'The tweet is not offensive':\n",
    "        return 'not offensive'\n",
    "    elif row == 'The tweet uses offensive language but not hate speech':\n",
    "        return 'offensive'\n",
    "    else:\n",
    "        return 'hate'"
   ]
  },
  {
   "cell_type": "code",
   "execution_count": 47,
   "metadata": {
    "collapsed": false
   },
   "outputs": [],
   "source": [
    "text_only_df['labels'] = text_only_df['labels'].apply(convert_labels)"
   ]
  },
  {
   "cell_type": "code",
   "execution_count": 49,
   "metadata": {
    "collapsed": false
   },
   "outputs": [
    {
     "data": {
      "text/plain": [
       "not offensive    7274\n",
       "offensive        4836\n",
       "hate             2399\n",
       "Name: labels, dtype: int64"
      ]
     },
     "execution_count": 49,
     "metadata": {},
     "output_type": "execute_result"
    }
   ],
   "source": [
    "text_only_df['labels'].value_counts()"
   ]
  },
  {
   "cell_type": "code",
   "execution_count": 50,
   "metadata": {
    "collapsed": true
   },
   "outputs": [],
   "source": [
    "text_only_df.to_csv('../data/labels_and_text_only.csv')"
   ]
  },
  {
   "cell_type": "code",
   "execution_count": 56,
   "metadata": {
    "collapsed": true
   },
   "outputs": [],
   "source": [
    "from sklearn.model_selection import train_test_split\n",
    "from sklearn.feature_extraction.text import TfidfVectorizer\n",
    "from nltk import word_tokenize\n",
    "from nltk.stem import PorterStemmer"
   ]
  },
  {
   "cell_type": "code",
   "execution_count": 54,
   "metadata": {
    "collapsed": true
   },
   "outputs": [],
   "source": [
    "class PorterTokenizer(object):\n",
    "    def __init__(self):\n",
    "        self.stemmer = PorterStemmer()\n",
    "    def __call__(self, doc):\n",
    "        return [self.stemmer.stem(t) for t in word_tokenize(doc)]"
   ]
  },
  {
   "cell_type": "code",
   "execution_count": 71,
   "metadata": {
    "collapsed": true
   },
   "outputs": [],
   "source": [
    "vectorizer = TfidfVectorizer(tokenizer=PorterTokenizer(), encoding='latin-1', ngram_range=(1,3), stop_words='english')"
   ]
  },
  {
   "cell_type": "code",
   "execution_count": 72,
   "metadata": {
    "collapsed": true
   },
   "outputs": [],
   "source": [
    "X = text_only_df['tweet_text'].values\n",
    "y = text_only_df['labels'].values"
   ]
  },
  {
   "cell_type": "code",
   "execution_count": 73,
   "metadata": {
    "collapsed": true
   },
   "outputs": [],
   "source": [
    "X_train, X_test, y_train, y_test = train_test_split(X, y, test_size=0.1)"
   ]
  },
  {
   "cell_type": "code",
   "execution_count": 74,
   "metadata": {
    "collapsed": false
   },
   "outputs": [],
   "source": [
    "X_trans = vectorizer.fit_transform(X_train)"
   ]
  },
  {
   "cell_type": "code",
   "execution_count": 75,
   "metadata": {
    "collapsed": false
   },
   "outputs": [
    {
     "data": {
      "text/plain": [
       "(13058, 217020)"
      ]
     },
     "execution_count": 75,
     "metadata": {},
     "output_type": "execute_result"
    }
   ],
   "source": [
    "X_trans.shape"
   ]
  },
  {
   "cell_type": "code",
   "execution_count": null,
   "metadata": {
    "collapsed": true
   },
   "outputs": [],
   "source": []
  }
 ],
 "metadata": {
  "anaconda-cloud": {},
  "kernelspec": {
   "display_name": "Python [conda root]",
   "language": "python",
   "name": "conda-root-py"
  },
  "language_info": {
   "codemirror_mode": {
    "name": "ipython",
    "version": 2
   },
   "file_extension": ".py",
   "mimetype": "text/x-python",
   "name": "python",
   "nbconvert_exporter": "python",
   "pygments_lexer": "ipython2",
   "version": "2.7.12"
  }
 },
 "nbformat": 4,
 "nbformat_minor": 1
}
